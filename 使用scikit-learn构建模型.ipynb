{
 "cells": [
  {
   "cell_type": "markdown",
   "metadata": {},
   "source": [
    "## 使用sklearn转换器处理数据"
   ]
  },
  {
   "cell_type": "markdown",
   "metadata": {},
   "source": [
    "### 加载datasets模块中的数据集"
   ]
  },
  {
   "cell_type": "code",
   "execution_count": 3,
   "metadata": {},
   "outputs": [
    {
     "name": "stdout",
     "output_type": "stream",
     "text": [
      "breast_cancer数据集的长度为:  8\n",
      "breast_cancer数据集的类型为： <class 'sklearn.utils.Bunch'>\n"
     ]
    }
   ],
   "source": [
    "from sklearn.datasets import load_breast_cancer\n",
    "cancer = load_breast_cancer()\n",
    "print('breast_cancer数据集的长度为: ', len(cancer))\n",
    "print('breast_cancer数据集的类型为：', type(cancer))"
   ]
  },
  {
   "cell_type": "markdown",
   "metadata": {},
   "source": [
    "* ***datasets模块常用数据集加载函数及其解释***"
   ]
  },
  {
   "cell_type": "code",
   "execution_count": null,
   "metadata": {},
   "outputs": [],
   "source": [
    "cancer_data = cancer['data']\n",
    "print('breast_cancer数据集的数据为: ',cancer_data)"
   ]
  },
  {
   "cell_type": "code",
   "execution_count": null,
   "metadata": {},
   "outputs": [],
   "source": [
    "cancer_target = cancer['target'] ##取出数据集的标签\n",
    "print('breast_cancer数据集的标签为: ', cancer_target)"
   ]
  },
  {
   "cell_type": "code",
   "execution_count": null,
   "metadata": {},
   "outputs": [],
   "source": [
    "cancer_names = cancer['feature_names'] ##取出数据集的特证名\n",
    "print('breast_cancer数据集的特证为: ', cancer_names)"
   ]
  },
  {
   "cell_type": "code",
   "execution_count": null,
   "metadata": {},
   "outputs": [],
   "source": [
    "cancer_desc = cancer['DESCR'] ##取出数据集的描述信息\n",
    "print('breast_cancer数据集的描述信息为: ', cancer_desc)"
   ]
  },
  {
   "cell_type": "markdown",
   "metadata": {},
   "source": [
    "### 将数据集划分为训练集和测试集"
   ]
  },
  {
   "cell_type": "markdown",
   "metadata": {},
   "source": [
    "* ***常用划分方式***"
   ]
  },
  {
   "cell_type": "markdown",
   "metadata": {},
   "source": [
    "* ***在数据分析过程中，为了保证模型在实际系统中能够起到预期作用，一般需要将样本分成独立的三部分：***\n",
    "* 训练集（train set）：用于估计模型。\n",
    "* 验证集（validation set)：用于确定网络结构或者控制模型复杂程度的参数。\n",
    "* 测试集（test set）：用于检验最优的模型的性能。\n",
    "典型的划分方式是训练集占总样本的50％，而验证集和测试集各占25％"
   ]
  },
  {
   "cell_type": "markdown",
   "metadata": {},
   "source": [
    "* ***K折交叉验证法***"
   ]
  },
  {
   "cell_type": "markdown",
   "metadata": {},
   "source": [
    "* ***当数据总量较少的时候，使用上面的方法将数据划分为三部分就不合适了。***\n",
    "* ***常用的方法是留少部分做测试集，然后对其余N个样本采用K折交叉验证法，基本步骤如下：***\n",
    "* 将样本打乱，均匀分成K份。\n",
    "* 轮流选择其中K－1份做训练，剩余的一份做验证。\n",
    "* 计算预测误差平方和，把K次的预测误差平方和的均值作为选择最优模型结构的依据。"
   ]
  },
  {
   "cell_type": "markdown",
   "metadata": {},
   "source": [
    "#### train_test_split函数"
   ]
  },
  {
   "cell_type": "code",
   "execution_count": 9,
   "metadata": {},
   "outputs": [
    {
     "name": "stdout",
     "output_type": "stream",
     "text": [
      "原始数据集的形状为:  (569, 30)\n",
      "原始数据集标签的形状为:  (569,)\n"
     ]
    }
   ],
   "source": [
    "print('原始数据集的形状为: ', cancer_data.shape)\n",
    "print('原始数据集标签的形状为: ', cancer_target.shape)"
   ]
  },
  {
   "cell_type": "code",
   "execution_count": 10,
   "metadata": {},
   "outputs": [
    {
     "name": "stdout",
     "output_type": "stream",
     "text": [
      "训练集数据的形状为:  (455, 30)\n",
      "训练集标签的形状为:  (455,)\n",
      "测试数据集的形状为:  (455, 30)\n",
      "测试数据集标签的形状为:  (114,)\n"
     ]
    }
   ],
   "source": [
    "from sklearn.model_selection import train_test_split\n",
    "cancer_data_train, cancer_data_test, cancer_target_train, cancer_target_test = train_test_split(cancer_data, cancer_target, test_size = 0.2, random_state = 42)\n",
    "print('训练集数据的形状为: ', cancer_data_train.shape)\n",
    "print('训练集标签的形状为: ', cancer_target_train.shape)\n",
    "print('测试数据集的形状为: ', cancer_data_train.shape)\n",
    "print('测试数据集标签的形状为: ', cancer_target_test.shape)"
   ]
  },
  {
   "cell_type": "markdown",
   "metadata": {},
   "source": [
    "### 使用sklearn转换器进行数据预处理和降维"
   ]
  },
  {
   "cell_type": "markdown",
   "metadata": {},
   "source": [
    "#### sklearn转换器三个方法"
   ]
  },
  {
   "cell_type": "markdown",
   "metadata": {},
   "source": [
    "* ***标准化处理***\n",
    "* ***归一化处理***\n",
    "* ***二值化处理***\n",
    "* ***PCA降维***"
   ]
  },
  {
   "cell_type": "markdown",
   "metadata": {},
   "source": [
    "#### PCA降维算法函数"
   ]
  },
  {
   "cell_type": "code",
   "execution_count": 11,
   "metadata": {
    "scrolled": true
   },
   "outputs": [
    {
     "name": "stdout",
     "output_type": "stream",
     "text": [
      "PCA降维前训练集数据的形状为:  (455, 30)\n",
      "PCA降维后训练集数据的形状为:  (455, 10)\n",
      "PCA降维前测试集数据的形状为:  (114, 30)\n",
      "PCA降维后测试集数据的形状为:  (114, 10)\n"
     ]
    }
   ],
   "source": [
    "import numpy as np\n",
    "from sklearn.preprocessing import MinMaxScaler\n",
    "Scaler = MinMaxScaler().fit(cancer_data_train)\n",
    "cancer_trainScaler = Scaler.transform(cancer_data_train)\n",
    "cancer_testScaler = Scaler.transform(cancer_data_test)\n",
    "from sklearn.decomposition import PCA\n",
    "##生成规则\n",
    "pca_model = PCA(n_components = 10).fit(cancer_trainScaler)\n",
    "##将规则应用于训练集\n",
    "cancer_trainPca = pca_model.transform(cancer_trainScaler)\n",
    "##将规则应用于测试集\n",
    "cancer_testPca = pca_model.transform(cancer_testScaler)\n",
    "\n",
    "print('PCA降维前训练集数据的形状为: ', cancer_trainScaler.shape)\n",
    "print('PCA降维后训练集数据的形状为: ', cancer_trainPca.shape)\n",
    "print('PCA降维前测试集数据的形状为: ', cancer_testScaler.shape)\n",
    "print('PCA降维后测试集数据的形状为: ', cancer_testPca.shape)"
   ]
  },
  {
   "attachments": {},
   "cell_type": "markdown",
   "metadata": {},
   "source": [
    "* ***PCA算法是一种在尽可能减少信息损失的前提下，找到某种方式降低数据的维度的方法。PCA通常用于高维数据集的探索与可视化，还可以用于数据压缩，数据预处理。***\n",
    "* ***通常来说，我们期望得到的结果，是把原始数据的特征空间（n个d维样本）投影到一个小一点的子空间里去，并尽可能表达的很好（就是损失信息最少）。常见的应用在于模式识别中，我们可以通过减少特征空间的维度，抽取子空间的数据来最好的表达我们的数据，从而减少参数估计的误差!***"
   ]
  },
  {
   "cell_type": "markdown",
   "metadata": {},
   "source": [
    "#### 6.1.4任务实现"
   ]
  },
  {
   "cell_type": "markdown",
   "metadata": {},
   "source": [
    "* ***1.读取数据***"
   ]
  },
  {
   "cell_type": "code",
   "execution_count": 13,
   "metadata": {},
   "outputs": [
    {
     "name": "stdout",
     "output_type": "stream",
     "text": [
      "boston数据集数据的形状为:  (506, 13)\n",
      "boston数据集标签的形状为:  (506,)\n",
      "boston数据集特证名的形状为:  (13,)\n"
     ]
    }
   ],
   "source": [
    "# 获取sklearn自带的Boston数据集\n",
    "from sklearn.datasets import load_boston\n",
    "boston = load_boston()\n",
    "boston_data = boston['data']\n",
    "boston_target = boston['target']\n",
    "boston_names = boston['feature_names']\n",
    "print('boston数据集数据的形状为: ', boston_data.shape)\n",
    "print('boston数据集标签的形状为: ', boston_target.shape)\n",
    "print('boston数据集特证名的形状为: ', boston_names.shape)"
   ]
  },
  {
   "cell_type": "markdown",
   "metadata": {},
   "source": [
    "* ***2.将数据集划分为训练集和测试集***"
   ]
  },
  {
   "cell_type": "code",
   "execution_count": null,
   "metadata": {},
   "outputs": [],
   "source": [
    "from sklearn.model_selection import train_test_split\n",
    "boston_data_train, boston_data_test, boston_target_train"
   ]
  },
  {
   "cell_type": "markdown",
   "metadata": {},
   "source": [
    "## 构建并评价聚类模型"
   ]
  },
  {
   "cell_type": "markdown",
   "metadata": {},
   "source": [
    "## 构建并评价分类模型"
   ]
  },
  {
   "cell_type": "markdown",
   "metadata": {},
   "source": [
    "## 构建并评价回归模型"
   ]
  },
  {
   "cell_type": "markdown",
   "metadata": {},
   "source": [
    "## 小结"
   ]
  }
 ],
 "metadata": {
  "kernelspec": {
   "display_name": "Python 3",
   "language": "python",
   "name": "python3"
  },
  "language_info": {
   "codemirror_mode": {
    "name": "ipython",
    "version": 3
   },
   "file_extension": ".py",
   "mimetype": "text/x-python",
   "name": "python",
   "nbconvert_exporter": "python",
   "pygments_lexer": "ipython3",
   "version": "3.8.5"
  }
 },
 "nbformat": 4,
 "nbformat_minor": 4
}
